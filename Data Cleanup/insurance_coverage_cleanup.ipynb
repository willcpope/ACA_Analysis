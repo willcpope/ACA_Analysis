{
 "nbformat": 4,
 "nbformat_minor": 2,
 "metadata": {
  "language_info": {
   "name": "python",
   "codemirror_mode": {
    "name": "ipython",
    "version": 3
   },
   "version": "3.7.4-final"
  },
  "orig_nbformat": 2,
  "file_extension": ".py",
  "mimetype": "text/x-python",
  "name": "python",
  "npconvert_exporter": "python",
  "pygments_lexer": "ipython3",
  "version": 3,
  "kernelspec": {
   "name": "python37464bitbaseconda7bc3910bbe4a4c1e89b80bb43883e8bc",
   "display_name": "Python 3.7.4 64-bit ('base': conda)"
  }
 },
 "cells": [
  {
   "cell_type": "markdown",
   "execution_count": null,
   "metadata": {},
   "outputs": [],
   "source": [
    "# Data Cleanup/Jaime"
   ]
  },
  {
   "cell_type": "code",
<<<<<<< HEAD:insurance_coverage_cleanup.ipynb
   "execution_count": 2,
=======
   "execution_count": 64,
>>>>>>> jaime/branch:Data Cleanup/insurance_coverage_cleanup.ipynb
   "metadata": {},
   "outputs": [],
   "source": [
    "#Dependencies\n",
    "import pandas as pd\n",
    "from params import states_list, years_list"
   ]
  },
  {
   "cell_type": "code",
<<<<<<< HEAD:insurance_coverage_cleanup.ipynb
   "execution_count": 3,
=======
   "execution_count": 65,
>>>>>>> jaime/branch:Data Cleanup/insurance_coverage_cleanup.ipynb
   "metadata": {},
   "outputs": [
    {
     "data": {
      "text/html": "<div>\n<style scoped>\n    .dataframe tbody tr th:only-of-type {\n        vertical-align: middle;\n    }\n\n    .dataframe tbody tr th {\n        vertical-align: top;\n    }\n\n    .dataframe thead th {\n        text-align: right;\n    }\n</style>\n<table border=\"1\" class=\"dataframe\">\n  <thead>\n    <tr style=\"text-align: right;\">\n      <th></th>\n      <th></th>\n      <th>2018</th>\n      <th>Unnamed: 3</th>\n      <th>Unnamed: 4</th>\n      <th>Unnamed: 5</th>\n      <th>2017</th>\n      <th>Unnamed: 7</th>\n      <th>Unnamed: 8</th>\n      <th>Unnamed: 9</th>\n      <th>2016</th>\n      <th>Unnamed: 11</th>\n      <th>...</th>\n      <th>Unnamed: 36</th>\n      <th>Unnamed: 37</th>\n      <th>2009</th>\n      <th>Unnamed: 39</th>\n      <th>Unnamed: 40</th>\n      <th>Unnamed: 41</th>\n      <th>2008</th>\n      <th>Unnamed: 43</th>\n      <th>Unnamed: 44</th>\n      <th>Unnamed: 45</th>\n    </tr>\n    <tr>\n      <th>Nation/State</th>\n      <th>Coverage</th>\n      <th></th>\n      <th></th>\n      <th></th>\n      <th></th>\n      <th></th>\n      <th></th>\n      <th></th>\n      <th></th>\n      <th></th>\n      <th></th>\n      <th></th>\n      <th></th>\n      <th></th>\n      <th></th>\n      <th></th>\n      <th></th>\n      <th></th>\n      <th></th>\n      <th></th>\n      <th></th>\n      <th></th>\n    </tr>\n  </thead>\n  <tbody>\n    <tr>\n      <td>Nation/State</td>\n      <td>Coverage</td>\n      <td>Estimate</td>\n      <td>Margin of Error</td>\n      <td>Percent</td>\n      <td>Margin of Error</td>\n      <td>Estimate</td>\n      <td>Margin of Error</td>\n      <td>Percent</td>\n      <td>Margin of Error</td>\n      <td>Estimate</td>\n      <td>Margin of Error</td>\n      <td>...</td>\n      <td>Percent</td>\n      <td>Margin of Error</td>\n      <td>Estimate</td>\n      <td>Margin of Error</td>\n      <td>Percent</td>\n      <td>Margin of Error</td>\n      <td>Estimate</td>\n      <td>Margin of Error</td>\n      <td>Percent</td>\n      <td>Margin of Error</td>\n    </tr>\n    <tr>\n      <td rowspan=\"4\" valign=\"top\">UNITED STATES</td>\n      <td>Total</td>\n      <td>322249</td>\n      <td>15</td>\n      <td>100</td>\n      <td>Z</td>\n      <td>320775</td>\n      <td>15</td>\n      <td>100</td>\n      <td>Z</td>\n      <td>318176</td>\n      <td>15</td>\n      <td>...</td>\n      <td>100</td>\n      <td>Z</td>\n      <td>301472</td>\n      <td>23</td>\n      <td>100</td>\n      <td>Z</td>\n      <td>298571</td>\n      <td>20</td>\n      <td>100</td>\n      <td>Z</td>\n    </tr>\n    <tr>\n      <td>Any coverage</td>\n      <td>293684</td>\n      <td>178</td>\n      <td>91.1</td>\n      <td>0.1</td>\n      <td>292756</td>\n      <td>184</td>\n      <td>91.3</td>\n      <td>0.1</td>\n      <td>290872</td>\n      <td>158</td>\n      <td>...</td>\n      <td>84.5</td>\n      <td>0.1</td>\n      <td>255807</td>\n      <td>235</td>\n      <td>84.9</td>\n      <td>0.1</td>\n      <td>255068</td>\n      <td>230</td>\n      <td>85.4</td>\n      <td>0.1</td>\n    </tr>\n    <tr>\n      <td>Uninsured</td>\n      <td>28566</td>\n      <td>183</td>\n      <td>8.9</td>\n      <td>0.1</td>\n      <td>28019</td>\n      <td>188</td>\n      <td>8.7</td>\n      <td>0.1</td>\n      <td>27304</td>\n      <td>162</td>\n      <td>...</td>\n      <td>15.5</td>\n      <td>0.1</td>\n      <td>45665</td>\n      <td>238</td>\n      <td>15.1</td>\n      <td>0.1</td>\n      <td>43503</td>\n      <td>233</td>\n      <td>14.6</td>\n      <td>0.1</td>\n    </tr>\n    <tr>\n      <td>Private</td>\n      <td>217623</td>\n      <td>404</td>\n      <td>67.5</td>\n      <td>0.1</td>\n      <td>216952</td>\n      <td>419</td>\n      <td>67.6</td>\n      <td>0.1</td>\n      <td>215859</td>\n      <td>369</td>\n      <td>...</td>\n      <td>65.8</td>\n      <td>0.1</td>\n      <td>203300</td>\n      <td>379</td>\n      <td>67.4</td>\n      <td>0.1</td>\n      <td>207786</td>\n      <td>353</td>\n      <td>69.6</td>\n      <td>0.1</td>\n    </tr>\n    <tr>\n      <td>...</td>\n      <td>...</td>\n      <td>...</td>\n      <td>...</td>\n      <td>...</td>\n      <td>...</td>\n      <td>...</td>\n      <td>...</td>\n      <td>...</td>\n      <td>...</td>\n      <td>...</td>\n      <td>...</td>\n      <td>...</td>\n      <td>...</td>\n      <td>...</td>\n      <td>...</td>\n      <td>...</td>\n      <td>...</td>\n      <td>...</td>\n      <td>...</td>\n      <td>...</td>\n      <td>...</td>\n      <td>...</td>\n    </tr>\n    <tr>\n      <td rowspan=\"5\" valign=\"top\">WYOMING</td>\n      <td>..Direct-purchase</td>\n      <td>89</td>\n      <td>6</td>\n      <td>15.7</td>\n      <td>1.1</td>\n      <td>89</td>\n      <td>5</td>\n      <td>15.6</td>\n      <td>0.9</td>\n      <td>94</td>\n      <td>6</td>\n      <td>...</td>\n      <td>13.4</td>\n      <td>0.8</td>\n      <td>86</td>\n      <td>5</td>\n      <td>16.1</td>\n      <td>0.9</td>\n      <td>90</td>\n      <td>6</td>\n      <td>17.1</td>\n      <td>1.2</td>\n    </tr>\n    <tr>\n      <td>..TRICARE</td>\n      <td>23</td>\n      <td>4</td>\n      <td>4.1</td>\n      <td>0.6</td>\n      <td>20</td>\n      <td>3</td>\n      <td>3.6</td>\n      <td>0.6</td>\n      <td>19</td>\n      <td>3</td>\n      <td>...</td>\n      <td>3.7</td>\n      <td>0.7</td>\n      <td>21</td>\n      <td>3</td>\n      <td>3.9</td>\n      <td>0.5</td>\n      <td>20</td>\n      <td>3</td>\n      <td>3.8</td>\n      <td>0.6</td>\n    </tr>\n    <tr>\n      <td>Public</td>\n      <td>155</td>\n      <td>6</td>\n      <td>27.3</td>\n      <td>1</td>\n      <td>161</td>\n      <td>6</td>\n      <td>28.3</td>\n      <td>1.1</td>\n      <td>157</td>\n      <td>5</td>\n      <td>...</td>\n      <td>26</td>\n      <td>1.1</td>\n      <td>134</td>\n      <td>5</td>\n      <td>25.1</td>\n      <td>0.9</td>\n      <td>129</td>\n      <td>5</td>\n      <td>24.6</td>\n      <td>1</td>\n    </tr>\n    <tr>\n      <td>..Medicaid</td>\n      <td>58</td>\n      <td>5</td>\n      <td>10.3</td>\n      <td>0.9</td>\n      <td>69</td>\n      <td>6</td>\n      <td>12.2</td>\n      <td>1</td>\n      <td>70</td>\n      <td>5</td>\n      <td>...</td>\n      <td>12.8</td>\n      <td>1</td>\n      <td>64</td>\n      <td>5</td>\n      <td>12</td>\n      <td>0.9</td>\n      <td>60</td>\n      <td>5</td>\n      <td>11.4</td>\n      <td>0.9</td>\n    </tr>\n    <tr>\n      <td>..Medicare</td>\n      <td>102</td>\n      <td>3</td>\n      <td>18</td>\n      <td>0.4</td>\n      <td>98</td>\n      <td>2</td>\n      <td>17.3</td>\n      <td>0.4</td>\n      <td>94</td>\n      <td>2</td>\n      <td>...</td>\n      <td>13.3</td>\n      <td>0.4</td>\n      <td>73</td>\n      <td>2</td>\n      <td>13.7</td>\n      <td>0.5</td>\n      <td>70</td>\n      <td>2</td>\n      <td>13.5</td>\n      <td>0.3</td>\n    </tr>\n  </tbody>\n</table>\n<p>572 rows × 44 columns</p>\n</div>",
      "text/plain": "                                     2018       Unnamed: 3 Unnamed: 4  \\\nNation/State  Coverage                                                  \nNation/State  Coverage           Estimate  Margin of Error    Percent   \nUNITED STATES Total                322249               15        100   \n              Any coverage         293684              178       91.1   \n              Uninsured             28566              183        8.9   \n              Private              217623              404       67.5   \n...                                   ...              ...        ...   \nWYOMING       ..Direct-purchase        89                6       15.7   \n              ..TRICARE                23                4        4.1   \n              Public                  155                6       27.3   \n              ..Medicaid               58                5       10.3   \n              ..Medicare              102                3         18   \n\n                                      Unnamed: 5      2017       Unnamed: 7  \\\nNation/State  Coverage                                                        \nNation/State  Coverage           Margin of Error  Estimate  Margin of Error   \nUNITED STATES Total                            Z    320775               15   \n              Any coverage                   0.1    292756              184   \n              Uninsured                      0.1     28019              188   \n              Private                        0.1    216952              419   \n...                                          ...       ...              ...   \nWYOMING       ..Direct-purchase              1.1        89                5   \n              ..TRICARE                      0.6        20                3   \n              Public                           1       161                6   \n              ..Medicaid                     0.9        69                6   \n              ..Medicare                     0.4        98                2   \n\n                                Unnamed: 8       Unnamed: 9      2016  \\\nNation/State  Coverage                                                  \nNation/State  Coverage             Percent  Margin of Error  Estimate   \nUNITED STATES Total                    100                Z    318176   \n              Any coverage            91.3              0.1    290872   \n              Uninsured                8.7              0.1     27304   \n              Private                 67.6              0.1    215859   \n...                                    ...              ...       ...   \nWYOMING       ..Direct-purchase       15.6              0.9        94   \n              ..TRICARE                3.6              0.6        19   \n              Public                  28.3              1.1       157   \n              ..Medicaid              12.2                1        70   \n              ..Medicare              17.3              0.4        94   \n\n                                     Unnamed: 11  ... Unnamed: 36  \\\nNation/State  Coverage                            ...               \nNation/State  Coverage           Margin of Error  ...     Percent   \nUNITED STATES Total                           15  ...         100   \n              Any coverage                   158  ...        84.5   \n              Uninsured                      162  ...        15.5   \n              Private                        369  ...        65.8   \n...                                          ...  ...         ...   \nWYOMING       ..Direct-purchase                6  ...        13.4   \n              ..TRICARE                        3  ...         3.7   \n              Public                           5  ...          26   \n              ..Medicaid                       5  ...        12.8   \n              ..Medicare                       2  ...        13.3   \n\n                                     Unnamed: 37      2009      Unnamed: 39  \\\nNation/State  Coverage                                                        \nNation/State  Coverage           Margin of Error  Estimate  Margin of Error   \nUNITED STATES Total                            Z    301472               23   \n              Any coverage                   0.1    255807              235   \n              Uninsured                      0.1     45665              238   \n              Private                        0.1    203300              379   \n...                                          ...       ...              ...   \nWYOMING       ..Direct-purchase              0.8        86                5   \n              ..TRICARE                      0.7        21                3   \n              Public                         1.1       134                5   \n              ..Medicaid                       1        64                5   \n              ..Medicare                     0.4        73                2   \n\n                                Unnamed: 40      Unnamed: 41      2008  \\\nNation/State  Coverage                                                   \nNation/State  Coverage              Percent  Margin of Error  Estimate   \nUNITED STATES Total                     100                Z    298571   \n              Any coverage             84.9              0.1    255068   \n              Uninsured                15.1              0.1     43503   \n              Private                  67.4              0.1    207786   \n...                                     ...              ...       ...   \nWYOMING       ..Direct-purchase        16.1              0.9        90   \n              ..TRICARE                 3.9              0.5        20   \n              Public                   25.1              0.9       129   \n              ..Medicaid                 12              0.9        60   \n              ..Medicare               13.7              0.5        70   \n\n                                     Unnamed: 43 Unnamed: 44      Unnamed: 45  \nNation/State  Coverage                                                         \nNation/State  Coverage           Margin of Error     Percent  Margin of Error  \nUNITED STATES Total                           20         100                Z  \n              Any coverage                   230        85.4              0.1  \n              Uninsured                      233        14.6              0.1  \n              Private                        353        69.6              0.1  \n...                                          ...         ...              ...  \nWYOMING       ..Direct-purchase                6        17.1              1.2  \n              ..TRICARE                        3         3.8              0.6  \n              Public                           5        24.6                1  \n              ..Medicaid                       5        11.4              0.9  \n              ..Medicare                       2        13.5              0.3  \n\n[572 rows x 44 columns]"
     },
<<<<<<< HEAD:insurance_coverage_cleanup.ipynb
     "execution_count": 3,
=======
     "execution_count": 65,
>>>>>>> jaime/branch:Data Cleanup/insurance_coverage_cleanup.ipynb
     "metadata": {},
     "output_type": "execute_result"
    }
   ],
   "source": [
    "#Read in excel file\n",
    "df = pd.read_excel('../Resources/hic04_acs.xls', skiprows = 3, index_col = [0,1])[:-6]\n",
    "df"
   ]
  },
  {
   "cell_type": "code",
<<<<<<< HEAD:insurance_coverage_cleanup.ipynb
   "execution_count": 4,
=======
   "execution_count": 66,
>>>>>>> jaime/branch:Data Cleanup/insurance_coverage_cleanup.ipynb
   "metadata": {},
   "outputs": [
    {
     "data": {
      "text/html": "<div>\n<style scoped>\n    .dataframe tbody tr th:only-of-type {\n        vertical-align: middle;\n    }\n\n    .dataframe tbody tr th {\n        vertical-align: top;\n    }\n\n    .dataframe thead th {\n        text-align: right;\n    }\n</style>\n<table border=\"1\" class=\"dataframe\">\n  <thead>\n    <tr style=\"text-align: right;\">\n      <th></th>\n      <th></th>\n      <th>2010</th>\n      <th>2011</th>\n      <th>2012</th>\n      <th>2013</th>\n      <th>2014</th>\n    </tr>\n    <tr>\n      <th>Nation/State</th>\n      <th>Coverage</th>\n      <th></th>\n      <th></th>\n      <th></th>\n      <th></th>\n      <th></th>\n    </tr>\n  </thead>\n  <tbody>\n    <tr>\n      <td rowspan=\"5\" valign=\"top\">ARIZONA</td>\n      <td>Total</td>\n      <td>6310</td>\n      <td>6378</td>\n      <td>6444</td>\n      <td>6521</td>\n      <td>6623</td>\n    </tr>\n    <tr>\n      <td>Any coverage</td>\n      <td>5245</td>\n      <td>5283</td>\n      <td>5313</td>\n      <td>5403</td>\n      <td>5720</td>\n    </tr>\n    <tr>\n      <td>Uninsured</td>\n      <td>1065</td>\n      <td>1095</td>\n      <td>1131</td>\n      <td>1118</td>\n      <td>903</td>\n    </tr>\n    <tr>\n      <td>Private</td>\n      <td>3811</td>\n      <td>3771</td>\n      <td>3822</td>\n      <td>3904</td>\n      <td>4050</td>\n    </tr>\n    <tr>\n      <td>..Employer-based</td>\n      <td>3091</td>\n      <td>3076</td>\n      <td>3102</td>\n      <td>3135</td>\n      <td>3191</td>\n    </tr>\n    <tr>\n      <td>...</td>\n      <td>...</td>\n      <td>...</td>\n      <td>...</td>\n      <td>...</td>\n      <td>...</td>\n      <td>...</td>\n    </tr>\n    <tr>\n      <td rowspan=\"5\" valign=\"top\">VERMONT</td>\n      <td>..TRICARE</td>\n      <td>13</td>\n      <td>17</td>\n      <td>11</td>\n      <td>13</td>\n      <td>13</td>\n    </tr>\n    <tr>\n      <td>Public</td>\n      <td>237</td>\n      <td>238</td>\n      <td>238</td>\n      <td>246</td>\n      <td>259</td>\n    </tr>\n    <tr>\n      <td>..Medicaid</td>\n      <td>151</td>\n      <td>152</td>\n      <td>148</td>\n      <td>152</td>\n      <td>161</td>\n    </tr>\n    <tr>\n      <td>..Medicare</td>\n      <td>106</td>\n      <td>107</td>\n      <td>113</td>\n      <td>118</td>\n      <td>122</td>\n    </tr>\n    <tr>\n      <td>..VA Care</td>\n      <td>15</td>\n      <td>15</td>\n      <td>14</td>\n      <td>14</td>\n      <td>17</td>\n    </tr>\n  </tbody>\n</table>\n<p>132 rows × 5 columns</p>\n</div>",
      "text/plain": "                               2010  2011  2012  2013  2014\nNation/State Coverage                                      \nARIZONA      Total             6310  6378  6444  6521  6623\n             Any coverage      5245  5283  5313  5403  5720\n             Uninsured         1065  1095  1131  1118   903\n             Private           3811  3771  3822  3904  4050\n             ..Employer-based  3091  3076  3102  3135  3191\n...                             ...   ...   ...   ...   ...\nVERMONT      ..TRICARE           13    17    11    13    13\n             Public             237   238   238   246   259\n             ..Medicaid         151   152   148   152   161\n             ..Medicare         106   107   113   118   122\n             ..VA Care           15    15    14    14    17\n\n[132 rows x 5 columns]"
     },
<<<<<<< HEAD:insurance_coverage_cleanup.ipynb
     "execution_count": 4,
=======
     "execution_count": 66,
>>>>>>> jaime/branch:Data Cleanup/insurance_coverage_cleanup.ipynb
     "metadata": {},
     "output_type": "execute_result"
    }
   ],
   "source": [
    "#Convert column names to string\n",
    "df.columns = df.columns.astype(str)\n",
    "\n",
    "#Drop columns with names not needed for analysis, only estimates are needed\n",
    "for name, series in df.iteritems():\n",
    "    if \"Unnamed\" in name:\n",
    "        df = df.drop(name, axis = 1)\n",
    "\n",
    "#Drop columns with years not needed for analysis\n",
    "for name, series in df.iteritems():\n",
    "    if name not in years_list:\n",
    "        df = df.drop(name, axis =1)\n",
    "\n",
    "#Remove states not needed for analysis\n",
    "for index, row in df.iterrows():\n",
    "    state, coverage = index\n",
    "    if state.title() not in states_list:\n",
    "        df = df.drop(state, level = 'Nation/State')\n",
    "\n",
    "df = df[years_list]\n",
    "\n",
    "#Display data frame\n",
    "df"
   ]
  },
  {
   "cell_type": "code",
<<<<<<< HEAD:insurance_coverage_cleanup.ipynb
   "execution_count": 5,
=======
   "execution_count": 67,
>>>>>>> jaime/branch:Data Cleanup/insurance_coverage_cleanup.ipynb
   "metadata": {},
   "outputs": [],
   "source": [
    "#Save to csv file in resources folder\n",
    "df.to_csv('../Resources/hic04_acs_CLEAN.csv')"
   ]
  },
  {
   "cell_type": "code",
   "execution_count": null,
   "metadata": {},
   "outputs": [],
   "source": []
  }
 ]
}