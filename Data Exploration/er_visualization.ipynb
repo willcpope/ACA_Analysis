{
 "cells": [
  {
   "cell_type": "markdown",
   "metadata": {},
   "source": [
    "# Total ER Visit by State Visualizations & Exploratory Analysis\n",
    "## Will Pope\n",
    "\n",
    "*All states saw an incremental increase in ER visits with the exception of Tennessee\n",
    "*The annual increase appears to coincide with population increases"
   ]
  },
  {
   "cell_type": "code",
   "execution_count": 2,
   "metadata": {},
   "outputs": [],
   "source": [
    "from params import states_list, years_list\n",
    "import matplotlib.pyplot as plt\n",
    "import pandas as pd\n",
    "import numpy as np\n",
    "from scipy.stats import linregress"
   ]
  },
  {
   "cell_type": "code",
   "execution_count": 3,
   "metadata": {},
   "outputs": [],
   "source": [
    "total_er_visits = \"Resources/total_er_visits.csv\"\n",
    "total_er_visits = pd.read_csv(total_er_visits)"
   ]
  },
  {
   "cell_type": "code",
   "execution_count": 4,
   "metadata": {
    "scrolled": true
   },
   "outputs": [
    {
     "data": {
      "text/html": [
       "<div>\n",
       "<style scoped>\n",
       "    .dataframe tbody tr th:only-of-type {\n",
       "        vertical-align: middle;\n",
       "    }\n",
       "\n",
       "    .dataframe tbody tr th {\n",
       "        vertical-align: top;\n",
       "    }\n",
       "\n",
       "    .dataframe thead th {\n",
       "        text-align: right;\n",
       "    }\n",
       "</style>\n",
       "<table border=\"1\" class=\"dataframe\">\n",
       "  <thead>\n",
       "    <tr style=\"text-align: right;\">\n",
       "      <th></th>\n",
       "      <th>2010</th>\n",
       "      <th>2011</th>\n",
       "      <th>2012</th>\n",
       "      <th>2013</th>\n",
       "      <th>2014</th>\n",
       "    </tr>\n",
       "    <tr>\n",
       "      <th>State</th>\n",
       "      <th></th>\n",
       "      <th></th>\n",
       "      <th></th>\n",
       "      <th></th>\n",
       "      <th></th>\n",
       "    </tr>\n",
       "  </thead>\n",
       "  <tbody>\n",
       "    <tr>\n",
       "      <td>Arizona</td>\n",
       "      <td>2305413</td>\n",
       "      <td>2416553</td>\n",
       "      <td>2476208</td>\n",
       "      <td>2432305</td>\n",
       "      <td>2569082</td>\n",
       "    </tr>\n",
       "    <tr>\n",
       "      <td>Florida</td>\n",
       "      <td>8173500</td>\n",
       "      <td>8507584</td>\n",
       "      <td>9041333</td>\n",
       "      <td>9194744</td>\n",
       "      <td>9764626</td>\n",
       "    </tr>\n",
       "    <tr>\n",
       "      <td>Illinois</td>\n",
       "      <td>4955198</td>\n",
       "      <td>5140486</td>\n",
       "      <td>5305026</td>\n",
       "      <td>5092925</td>\n",
       "      <td>5245177</td>\n",
       "    </tr>\n",
       "    <tr>\n",
       "      <td>Iowa</td>\n",
       "      <td>1140898</td>\n",
       "      <td>1171011</td>\n",
       "      <td>1188770</td>\n",
       "      <td>1159998</td>\n",
       "      <td>1194712</td>\n",
       "    </tr>\n",
       "    <tr>\n",
       "      <td>Kentucky</td>\n",
       "      <td>2404944</td>\n",
       "      <td>2433143</td>\n",
       "      <td>2430001</td>\n",
       "      <td>2321513</td>\n",
       "      <td>2436880</td>\n",
       "    </tr>\n",
       "    <tr>\n",
       "      <td>Maryland</td>\n",
       "      <td>2408759</td>\n",
       "      <td>2498178</td>\n",
       "      <td>2619227</td>\n",
       "      <td>2530131</td>\n",
       "      <td>2527936</td>\n",
       "    </tr>\n",
       "    <tr>\n",
       "      <td>Minnesota</td>\n",
       "      <td>1801852</td>\n",
       "      <td>1876179</td>\n",
       "      <td>1789410</td>\n",
       "      <td>1749949</td>\n",
       "      <td>1865994</td>\n",
       "    </tr>\n",
       "    <tr>\n",
       "      <td>Nebraska</td>\n",
       "      <td>536858</td>\n",
       "      <td>538245</td>\n",
       "      <td>546455</td>\n",
       "      <td>551549</td>\n",
       "      <td>563255</td>\n",
       "    </tr>\n",
       "    <tr>\n",
       "      <td>North Carolina</td>\n",
       "      <td>4125701</td>\n",
       "      <td>5633259</td>\n",
       "      <td>4499568</td>\n",
       "      <td>4585990</td>\n",
       "      <td>4672977</td>\n",
       "    </tr>\n",
       "    <tr>\n",
       "      <td>South Carolina</td>\n",
       "      <td>2169044</td>\n",
       "      <td>2231509</td>\n",
       "      <td>2283494</td>\n",
       "      <td>2322938</td>\n",
       "      <td>2391435</td>\n",
       "    </tr>\n",
       "    <tr>\n",
       "      <td>Tennessee</td>\n",
       "      <td>3049512</td>\n",
       "      <td>3125889</td>\n",
       "      <td>2981011</td>\n",
       "      <td>2921177</td>\n",
       "      <td>2755526</td>\n",
       "    </tr>\n",
       "    <tr>\n",
       "      <td>Vermont</td>\n",
       "      <td>263222</td>\n",
       "      <td>266996</td>\n",
       "      <td>272781</td>\n",
       "      <td>267490</td>\n",
       "      <td>262080</td>\n",
       "    </tr>\n",
       "  </tbody>\n",
       "</table>\n",
       "</div>"
      ],
      "text/plain": [
       "                   2010     2011     2012     2013     2014\n",
       "State                                                      \n",
       "Arizona         2305413  2416553  2476208  2432305  2569082\n",
       "Florida         8173500  8507584  9041333  9194744  9764626\n",
       "Illinois        4955198  5140486  5305026  5092925  5245177\n",
       "Iowa            1140898  1171011  1188770  1159998  1194712\n",
       "Kentucky        2404944  2433143  2430001  2321513  2436880\n",
       "Maryland        2408759  2498178  2619227  2530131  2527936\n",
       "Minnesota       1801852  1876179  1789410  1749949  1865994\n",
       "Nebraska         536858   538245   546455   551549   563255\n",
       "North Carolina  4125701  5633259  4499568  4585990  4672977\n",
       "South Carolina  2169044  2231509  2283494  2322938  2391435\n",
       "Tennessee       3049512  3125889  2981011  2921177  2755526\n",
       "Vermont          263222   266996   272781   267490   262080"
      ]
     },
     "execution_count": 4,
     "metadata": {},
     "output_type": "execute_result"
    }
   ],
   "source": [
    "total_er_df = pd.DataFrame(total_er_visits)\n",
    "total_er_df = total_er_df.set_index('State')\n",
    "\n",
    "total_er_df"
   ]
  },
  {
   "cell_type": "code",
   "execution_count": 21,
   "metadata": {
    "scrolled": false
   },
   "outputs": [
    {
     "data": {
      "image/png": "[encoded data removed]",
      "text/plain": [
       "<Figure size 432x288 with 1 Axes>"
      ]
     },
     "metadata": {
      "needs_background": "light"
     },
     "output_type": "display_data"
    }
   ],
   "source": [
    "ax = total_er_df.plot.bar(rot=45)\n",
    "ax.set_title(\"ER Visits by State\")\n",
    "ax.set_ylabel(\"Total Visits\")\n",
    "ax.grid()"
   ]
  }
 ],
 "metadata": {
  "kernelspec": {
   "display_name": "Python 3",
   "language": "python",
   "name": "python3"
  },
  "language_info": {
   "codemirror_mode": {
    "name": "ipython",
    "version": 3
   },
   "file_extension": ".py",
   "mimetype": "text/x-python",
   "name": "python",
   "nbconvert_exporter": "python",
   "pygments_lexer": "ipython3",
   "version": "3.6.9"
  }
 },
 "nbformat": 4,
 "nbformat_minor": 2
}
